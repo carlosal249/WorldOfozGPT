{
 "cells": [
  {
   "cell_type": "code",
   "execution_count": 1,
   "id": "121d1d13",
   "metadata": {},
   "outputs": [],
   "source": [
    "import torch\n",
    "import numpy as np\n",
    "import time"
   ]
  },
  {
   "cell_type": "code",
   "execution_count": 2,
   "id": "fb596707",
   "metadata": {},
   "outputs": [
    {
     "data": {
      "text/plain": [
       "tensor([ 63, -75,  31, -82,  37,  26])"
      ]
     },
     "execution_count": 2,
     "metadata": {},
     "output_type": "execute_result"
    }
   ],
   "source": [
    "randint = torch.randint(-100, 100, (6, ))\n",
    "randint"
   ]
  },
  {
   "cell_type": "code",
   "execution_count": 4,
   "id": "8cece228",
   "metadata": {},
   "outputs": [
    {
     "data": {
      "text/plain": [
       "tensor([[0.1000, 1.2000, 3.1000],\n",
       "        [0.1000, 1.2000, 3.1000],\n",
       "        [0.1000, 1.2000, 3.1000]])"
      ]
     },
     "execution_count": 4,
     "metadata": {},
     "output_type": "execute_result"
    }
   ],
   "source": [
    "tensor = torch.tensor([[0.1, 1.2, 3.1],  [0.1, 1.2, 3.1], [0.1, 1.2, 3.1] ])\n",
    "tensor"
   ]
  },
  {
   "cell_type": "code",
   "execution_count": 6,
   "id": "eacfcfb1",
   "metadata": {},
   "outputs": [
    {
     "data": {
      "text/plain": [
       "tensor([[0., 0., 0.],\n",
       "        [0., 0., 0.]])"
      ]
     },
     "execution_count": 6,
     "metadata": {},
     "output_type": "execute_result"
    }
   ],
   "source": [
    "# Matriz de 0 \n",
    "tensor_zeros = torch.zeros(2, 3) # Matriz 2 por 3 de valores zeros\n",
    "tensor_zeros"
   ]
  },
  {
   "cell_type": "code",
   "execution_count": 16,
   "id": "712a4812",
   "metadata": {},
   "outputs": [
    {
     "data": {
      "text/plain": [
       "tensor([[1., 1., 1.],\n",
       "        [1., 1., 1.]])"
      ]
     },
     "execution_count": 16,
     "metadata": {},
     "output_type": "execute_result"
    }
   ],
   "source": [
    "tensor_ones = torch.ones(2, 3)\n",
    "tensor_ones"
   ]
  },
  {
   "cell_type": "code",
   "execution_count": 17,
   "id": "0e154dfd",
   "metadata": {},
   "outputs": [
    {
     "data": {
      "text/plain": [
       "tensor([[1.0571e+21, 1.2801e-11, 4.3922e-05],\n",
       "        [1.0920e-05, 3.3703e-06, 3.1986e+21]])"
      ]
     },
     "execution_count": 17,
     "metadata": {},
     "output_type": "execute_result"
    }
   ],
   "source": [
    "empty = torch.empty(2, 3)\n",
    "empty"
   ]
  },
  {
   "cell_type": "code",
   "execution_count": 9,
   "id": "17f78c17",
   "metadata": {},
   "outputs": [
    {
     "data": {
      "text/plain": [
       "tensor([0, 1, 2, 3, 4])"
      ]
     },
     "execution_count": 9,
     "metadata": {},
     "output_type": "execute_result"
    }
   ],
   "source": [
    "arange = torch.arange(5)\n",
    "arange"
   ]
  },
  {
   "cell_type": "code",
   "execution_count": 11,
   "id": "b0018ded",
   "metadata": {},
   "outputs": [
    {
     "data": {
      "text/plain": [
       "tensor([ 3.0000,  4.7500,  6.5000,  8.2500, 10.0000])"
      ]
     },
     "execution_count": 11,
     "metadata": {},
     "output_type": "execute_result"
    }
   ],
   "source": [
    "line_space = torch.linspace(3, 10, steps=5)\n",
    "line_space"
   ]
  },
  {
   "cell_type": "code",
   "execution_count": 15,
   "id": "af8342a9",
   "metadata": {},
   "outputs": [
    {
     "data": {
      "text/plain": [
       "tensor([1.0000e-10, 1.0000e-05, 1.0000e+00, 1.0000e+05, 1.0000e+10])"
      ]
     },
     "execution_count": 15,
     "metadata": {},
     "output_type": "execute_result"
    }
   ],
   "source": [
    "log_space = torch.logspace( start=-10, end=10, steps=5 )\n",
    "log_space"
   ]
  },
  {
   "cell_type": "code",
   "execution_count": 18,
   "id": "7fafdca0",
   "metadata": {},
   "outputs": [
    {
     "data": {
      "text/plain": [
       "tensor([[1., 0., 0., 0., 0.],\n",
       "        [0., 1., 0., 0., 0.],\n",
       "        [0., 0., 1., 0., 0.],\n",
       "        [0., 0., 0., 1., 0.],\n",
       "        [0., 0., 0., 0., 1.]])"
      ]
     },
     "execution_count": 18,
     "metadata": {},
     "output_type": "execute_result"
    }
   ],
   "source": [
    "eye = torch.eye(5)\n",
    "eye"
   ]
  },
  {
   "cell_type": "code",
   "execution_count": 19,
   "id": "8de68116",
   "metadata": {},
   "outputs": [
    {
     "data": {
      "text/plain": [
       "tensor([[0, 0, 0],\n",
       "        [0, 0, 0]])"
      ]
     },
     "execution_count": 19,
     "metadata": {},
     "output_type": "execute_result"
    }
   ],
   "source": [
    "tensor_ = torch.empty((2,3), dtype=torch.int64)\n",
    "empty_like = torch.empty_like(tensor_)\n",
    "empty_like"
   ]
  },
  {
   "cell_type": "code",
   "execution_count": 20,
   "id": "93977afa",
   "metadata": {},
   "outputs": [],
   "source": [
    "### Device setup\n",
    "\n",
    "device = 'cuda' if torch.cuda.is_available() else 'cpu'\n"
   ]
  },
  {
   "cell_type": "code",
   "execution_count": 23,
   "id": "1254af30",
   "metadata": {},
   "outputs": [],
   "source": [
    "# torch.cuda.current_device()"
   ]
  },
  {
   "cell_type": "code",
   "execution_count": 24,
   "id": "7346300b",
   "metadata": {},
   "outputs": [
    {
     "name": "stdout",
     "output_type": "stream",
     "text": [
      "0.0\n"
     ]
    }
   ],
   "source": [
    "start_time = time.time()\n",
    "# matrix operations\n",
    "zeros = torch.zeros(1, 1)\n",
    "end_time = time.time()\n",
    "\n",
    "elapsed_time = end_time - start_time\n",
    "print(elapsed_time)"
   ]
  },
  {
   "cell_type": "code",
   "execution_count": 31,
   "id": "40b56a0c",
   "metadata": {},
   "outputs": [
    {
     "data": {
      "text/plain": [
       "tensor([[1.0298, 0.5411, 0.8106],\n",
       "        [0.9747, 0.5284, 0.8170],\n",
       "        [1.3480, 0.6897, 1.1227]])"
      ]
     },
     "execution_count": 31,
     "metadata": {},
     "output_type": "execute_result"
    }
   ],
   "source": [
    "tensor_1 = torch.rand(3, 3)\n",
    "tensor_2 = torch.rand(3, 3)\n",
    "\n",
    "tensor_multiplier = ((tensor_1 @ tensor_2 ))\n",
    "\n",
    "tensor_multiplier"
   ]
  },
  {
   "cell_type": "code",
   "execution_count": 171,
   "id": "afa1a660",
   "metadata": {},
   "outputs": [
    {
     "name": "stdout",
     "output_type": "stream",
     "text": [
      "tensor([1, 1, 1, 1, 1, 1, 1, 1, 1, 1, 1, 1, 1, 1, 0, 1, 1, 1, 1, 1, 1, 1, 1, 1,\n",
      "        1, 1, 1, 1, 1, 1, 1, 1, 1, 1, 1, 1, 1, 1, 1, 1, 1, 1, 1, 1, 1, 1, 1, 1,\n",
      "        1, 1, 1, 1, 1, 1, 1, 1, 1, 1, 1, 1, 1, 1, 1, 1, 1, 1, 1, 1, 1, 1, 1, 1,\n",
      "        1, 1, 1, 1, 1, 0, 1, 1, 1, 1, 1, 0, 1, 1, 1, 1, 1, 1, 1, 1, 1, 1, 1, 1,\n",
      "        1, 1, 1, 1])\n",
      "Resultados 0 - 3\n",
      "Resultados 1 - 97\n"
     ]
    }
   ],
   "source": [
    "\n",
    "probabilidades = torch.tensor([0.1, 0.9])\n",
    "resultados = torch.multinomial(probabilidades, num_samples=100, replacement=True)\n",
    "\n",
    "resultados_1, resultados_0 = 0, 0\n",
    "\n",
    "for i in resultados:\n",
    "    if i == 1:\n",
    "        resultados_1 = resultados_1 +1\n",
    "    else:\n",
    "        resultados_0 = resultados_0 + 1\n",
    "        \n",
    "print(resultados)\n",
    "print(f'Resultados 0 - {resultados_0}')\n",
    "print(f'Resultados 1 - {resultados_1}')"
   ]
  },
  {
   "cell_type": "code",
   "execution_count": 37,
   "id": "ceac1479",
   "metadata": {},
   "outputs": [
    {
     "data": {
      "text/plain": [
       "tensor(1)"
      ]
     },
     "execution_count": 37,
     "metadata": {},
     "output_type": "execute_result"
    }
   ],
   "source": []
  }
 ],
 "metadata": {
  "kernelspec": {
   "display_name": "Python 3 (ipykernel)",
   "language": "python",
   "name": "python3"
  },
  "language_info": {
   "codemirror_mode": {
    "name": "ipython",
    "version": 3
   },
   "file_extension": ".py",
   "mimetype": "text/x-python",
   "name": "python",
   "nbconvert_exporter": "python",
   "pygments_lexer": "ipython3",
   "version": "3.10.11"
  }
 },
 "nbformat": 4,
 "nbformat_minor": 5
}
